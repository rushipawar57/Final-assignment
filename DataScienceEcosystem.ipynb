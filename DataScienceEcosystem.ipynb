{
 "cells": [
  {
   "cell_type": "markdown",
   "id": "d3511feb-704e-415f-bcd5-1d25b5139382",
   "metadata": {},
   "source": [
    "# Data Science Tools and Ecosystem"
   ]
  },
  {
   "cell_type": "markdown",
   "id": "858bf981-c569-410d-9693-745807839174",
   "metadata": {},
   "source": [
    "In this notebook, Data Science Tools and Ecosystem are summarized."
   ]
  },
  {
   "cell_type": "markdown",
   "id": "e9f8ceb2-88ed-4c00-a4c0-0c5572cf0ced",
   "metadata": {},
   "source": [
    "**Objectives:**\n",
    "+ Popular languages for Data Science\n",
    "+ Commonly used libraries for Data Science\n",
    "+ Data science tools\n",
    "+ Arithmetic expressions in python"
   ]
  },
  {
   "cell_type": "markdown",
   "id": "4cca0402-66b5-41df-8372-b76786e396a9",
   "metadata": {
    "tags": []
   },
   "source": [
    "Some of the popular languages that Data Scientists use are:\n",
    "1. Python\n",
    "2. R language\n",
    "3. SQL\n",
    "4. Scala"
   ]
  },
  {
   "cell_type": "markdown",
   "id": "9b54c425-bd08-4bdc-af69-e5ea0096fc62",
   "metadata": {},
   "source": [
    "Some of the commonly used libraries used by Data Scientists include:\n",
    "1. pandas\n",
    "2. numpy\n",
    "3. matplotlib\n",
    "4. ggplot"
   ]
  },
  {
   "cell_type": "markdown",
   "id": "0d1e9340-661e-481e-8512-30cabe861c5e",
   "metadata": {},
   "source": [
    "|Data Science Tools|\n",
    "--------------------\n",
    "|Jupyter notebook|\n",
    "|R studio|\n",
    "|Jupyter lab|"
   ]
  },
  {
   "cell_type": "markdown",
   "id": "550a4209-4937-4ed2-9e98-76dbca427f31",
   "metadata": {},
   "source": [
    "### Below are a few examples of evaluating arithmetic expressions in Python"
   ]
  },
  {
   "cell_type": "code",
   "execution_count": 4,
   "id": "a02832e1-690c-4ba1-9dd3-6ab5a6d9db63",
   "metadata": {
    "tags": []
   },
   "outputs": [
    {
     "data": {
      "text/plain": [
       "17"
      ]
     },
     "execution_count": 4,
     "metadata": {},
     "output_type": "execute_result"
    }
   ],
   "source": [
    "# This a simple arithmetic expression to mutiply then add integers\n",
    "(3*4)+5"
   ]
  },
  {
   "cell_type": "code",
   "execution_count": 5,
   "id": "cb4348b9-d82c-4fb0-8d2f-2ee8f62c1f61",
   "metadata": {
    "tags": []
   },
   "outputs": [
    {
     "name": "stdout",
     "output_type": "stream",
     "text": [
      "3.3333333333333335 min\n"
     ]
    }
   ],
   "source": [
    "# This will convert 200 minutes to hours by diving by 60\n",
    "x=200/60\n",
    "print(x, \"min\")"
   ]
  },
  {
   "cell_type": "markdown",
   "id": "6294cd6d-3c54-442d-ac75-3a81c6cc667b",
   "metadata": {},
   "source": [
    "## Author\n",
    "Rushikesh Pawar"
   ]
  }
 ],
 "metadata": {
  "kernelspec": {
   "display_name": "Python",
   "language": "python",
   "name": "conda-env-python-py"
  },
  "language_info": {
   "codemirror_mode": {
    "name": "ipython",
    "version": 3
   },
   "file_extension": ".py",
   "mimetype": "text/x-python",
   "name": "python",
   "nbconvert_exporter": "python",
   "pygments_lexer": "ipython3",
   "version": "3.7.12"
  }
 },
 "nbformat": 4,
 "nbformat_minor": 5
}
